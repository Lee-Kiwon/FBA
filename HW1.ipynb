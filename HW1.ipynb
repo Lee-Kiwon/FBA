{
 "cells": [
  {
   "cell_type": "code",
   "execution_count": 17,
   "id": "3339fdf4",
   "metadata": {},
   "outputs": [
    {
     "name": "stdout",
     "output_type": "stream",
     "text": [
      "The agent is created\n",
      "The agent buys 5 AAPL for 135 .\n",
      "credit: 325\n",
      "holding: [('AAPL', 135, 5)]\n",
      "The agent can't buy.\n",
      "credit: 745\n",
      "holding: [['AAPL', 135, 2]]\n"
     ]
    }
   ],
   "source": [
    "class Agent:\n",
    "    def __init__(self):\n",
    "        self.credit = 1000\n",
    "        self.holdings = []\n",
    "        print(\"The agent is created\")\n",
    "\n",
    "    def check(self):\n",
    "        print(\"credit:\", self.credit)\n",
    "        print(\"holding:\", self.holdings)\n",
    "\n",
    "    def buy(self, ticker, price, quantity):\n",
    "        total_price = price * quantity\n",
    "        if total_price > self.credit:\n",
    "            print(\"The agent can't buy.\")\n",
    "        else:\n",
    "            self.credit -= total_price\n",
    "            self.holdings.append((ticker, price, quantity))\n",
    "            print(\"The agent buys\",quantity, ticker, \"for\", price,\".\")\n",
    "\n",
    "    def sell(self, ticker, price, quantity):\n",
    "        holding_quantity = 0\n",
    "        for holding in self.holdings:\n",
    "            if holding[0] == ticker:\n",
    "                holding_quantity = holding[2]\n",
    "                break\n",
    "        \n",
    "        if holding_quantity < quantity:\n",
    "            print(\"Not enough quantity of\", ticker, \"to sell.\")\n",
    "            return\n",
    "        \n",
    "        self.credit += price * quantity\n",
    "        for i, holding in enumerate(self.holdings):\n",
    "            if holding[0] == ticker:\n",
    "                self.holdings[i] = [holding[0], holding[1], holding[2] - quantity]\n",
    "                if self.holdings[i][1] == 0:\n",
    "                    self.holdings.pop(i)\n",
    "                break\n",
    "\n",
    "FBA_agent = Agent()\n",
    "\n",
    "# Buying stocks\n",
    "FBA_agent.buy('AAPL', 135, 5)\n",
    "\n",
    "FBA_agent.check()\n",
    "\n",
    "FBA_agent.buy('GOOGL', 2300, 1)\n",
    "\n",
    "# Selling stocks\n",
    "FBA_agent.sell('AAPL', 140, 3)\n",
    "\n",
    "# Checking credit and holdings\n",
    "FBA_agent.check()\n"
   ]
  }
 ],
 "metadata": {
  "kernelspec": {
   "display_name": "Python 3 (ipykernel)",
   "language": "python",
   "name": "python3"
  },
  "language_info": {
   "codemirror_mode": {
    "name": "ipython",
    "version": 3
   },
   "file_extension": ".py",
   "mimetype": "text/x-python",
   "name": "python",
   "nbconvert_exporter": "python",
   "pygments_lexer": "ipython3",
   "version": "3.9.12"
  }
 },
 "nbformat": 4,
 "nbformat_minor": 5
}
