{
 "cells": [
  {
   "cell_type": "markdown",
   "id": "db923c2c",
   "metadata": {},
   "source": [
    "# Problem 1"
   ]
  },
  {
   "cell_type": "code",
   "execution_count": 130,
   "id": "a40530c3",
   "metadata": {
    "scrolled": true
   },
   "outputs": [
    {
     "name": "stdout",
     "output_type": "stream",
     "text": [
      "0.060000000000002274\n",
      "0.07399999999999807\n",
      "0.375\n",
      "1.838825\n",
      "0.0008059100067159472\n",
      "0.0009940491382668358\n",
      "0.005028798251319222\n",
      "0.024501809912018602\n"
     ]
    }
   ],
   "source": [
    "import pandas as pd\n",
    "\n",
    "# 주어진 데이터를 DataFrame으로 변환\n",
    "\n",
    "data=pd.read_excel('ch2_ex1.xlsx')\n",
    "\n",
    "df = pd.DataFrame(data)\n",
    "\n",
    "\n",
    "#스프레드 계산 함수\n",
    "def quoted_spread(row):\n",
    "    if row['Side'] == 'Bid':\n",
    "        best_ask = df[(df['Side'] == 'Ask') & (df['Price'] >= row['Price'])]['Price'].min()\n",
    "        return best_ask - row['Price']\n",
    "    elif row['Side'] == 'Ask':\n",
    "        best_bid = df[(df['Side'] == 'Bid') & (df['Price'] <= row['Price'])]['Price'].max()\n",
    "        return row['Price'] - best_bid\n",
    "    else:\n",
    "        return 0\n",
    "\n",
    "# 스프레드 계산 및 결과 출력\n",
    "df['Quoted Spread'] = df.apply(quoted_spread, axis=1)\n",
    "\n",
    "df_ask = df[df['Side']=='Ask']\n",
    "df_bid = df[df['Side']=='Bid']\n",
    "\n",
    "\n",
    "def ask_spread(amount):\n",
    "    for i in range(15):\n",
    "        volume = df_ask.loc[i]['Size']\n",
    "        amount-=volume\n",
    "        if amount <= 0 :\n",
    "            return df_ask.loc[i]['Price']\n",
    "            break\n",
    "\n",
    "def bid_spread(amount):\n",
    "    for i in range(15):\n",
    "        volume = df_ask.loc[i]['Size']\n",
    "        amount-=volume\n",
    "        if amount <= 0 :\n",
    "            return df_ask.loc[i]['Price']\n",
    "            break\n",
    "            \n",
    "            \n",
    "def ask_spread_avg(amount):\n",
    "    sum1=0\n",
    "    amountf=amount\n",
    "    for i in range(15):\n",
    "        volume = df_ask.loc[i]['Size']\n",
    "        if amount-volume < 0 :\n",
    "            sum1+=amount* df_ask.loc[i]['Price']\n",
    "            return sum1/amountf\n",
    "            break\n",
    "        elif amount-volume==0:\n",
    "            sum1 += volume * df_ask.loc[i]['Price']\n",
    "            amount-=volume\n",
    "            break\n",
    "        else:\n",
    "            sum1 += volume * df_ask.loc[i]['Price']\n",
    "            amount-=volume           \n",
    "            \n",
    "def bid_spread_avg(amount):\n",
    "    sum1=0\n",
    "    amountf=amount\n",
    "    for i in range(16,32):\n",
    "        volume = df_bid.loc[i]['Size']\n",
    "        if amount-volume < 0 :\n",
    "            sum1+=amount* df_bid.loc[i]['Price']\n",
    "            return sum1/amountf\n",
    "            break\n",
    "        elif amount-volume==0:\n",
    "            sum1 += volume * df_bid.loc[i]['Price']\n",
    "            amount-=volume\n",
    "            break\n",
    "        else:\n",
    "            sum1 += volume * df_bid.loc[i]['Price']\n",
    "            amount-=volume\n",
    "\n",
    "answer = [100, 500, 1000, 2000]            \n",
    "            \n",
    "#Weighted spread\n",
    "for i in range (4):\n",
    "    print(ask_spread_avg(answer[i])-bid_spread_avg(answer[i]))\n",
    " \n",
    "#relative spread\n",
    "for i in range (4):\n",
    "    print(2*(ask_spread_avg(answer[i])-bid_spread_avg(answer[i]))/((ask_spread_avg(answer[i])+bid_spread_avg(answer[i]))))   "
   ]
  },
  {
   "cell_type": "markdown",
   "id": "647e7245",
   "metadata": {},
   "source": [
    "# Problem2"
   ]
  },
  {
   "cell_type": "code",
   "execution_count": 134,
   "id": "8df81ff5",
   "metadata": {
    "scrolled": true
   },
   "outputs": [
    {
     "name": "stdout",
     "output_type": "stream",
     "text": [
      "1. 9:30에서의 스프레드:\n",
      "   - 절대 스프레드: 2.8100000000000023\n",
      "   - 상대 스프레드: 0.027847975818839524\n",
      "2. 9:30에서의 효과적 반 스프레드:\n",
      "   -  절대 반 스프레드: 1.855000000000004\n",
      "   -  상대 반 스프레드: 0.01838362816510583\n"
     ]
    }
   ],
   "source": [
    "ask_price_9_30 = 102.31\n",
    "bid_price_9_30 = 99.50\n",
    "executed_price_9_30 = 102.76\n",
    "ask_price_10_30 = 102.55\n",
    "bid_price_10_30 = 100.02\n",
    "\n",
    "# a. 9시 30분에서의 스프레드 계산\n",
    "absolute_quoted_spread_9_30 = ask_price_9_30 - bid_price_9_30\n",
    "midprice_9_30 = (ask_price_9_30 + bid_price_9_30)/2\n",
    "relative_quoted_spread_9_30 = absolute_quoted_spread_9_30 / midprice_9_30\n",
    "\n",
    "# b. 9시 30분에서의 절대,상대 반 스프레드 계산\n",
    "abs_effective_ask_side_half_spread_9_30 = (executed_price_9_30 - midprice_9_30)\n",
    "rel_effective_ask_side_half_spread_9_30 = (executed_price_9_30 - midprice_9_30) / midprice_9_30\n",
    "\n",
    "\n",
    "# c. 9시 30분에서의 반 스프레드와 효과적인 어스크측 반 스프레드 비교\n",
    "# 인용 반 스프레드와 효과적인 어스크측 반 스프레드 차이를 절대적 및 상대적인 관점에서 비교\n",
    "#absolute_difference_3 = absolute_quoted_spread_9_30 - effective_ask_side_half_spread_9_30\n",
    "#relative_difference_3 = absolute_difference_3 / ask_price_9_30\n",
    "\n",
    "#d. 9시 30분, 10시 30분 실제 스프레드 비교\n",
    "absolute_quoted_spread_10_30 = ask_price_10_30 - bid_price_10_30\n",
    "midprice_10_30 = (ask_price_10_30 + bid_price_10_30)/2\n",
    "relative_quoted_spread_10_30 = absolute_quoted_spread_10_30 / midprice_10_30\n",
    "executed_price_10_30 = 102.76 * 1.01\n",
    "abs_effective_ask_side_half_spread_10_30 = (executed_price_10_30 - midprice_10_30)\n",
    "\n",
    "\n",
    "Realized_half_spread = abs_effective_ask_side_half_spread_9_30-abs_effective_ask_side_half_spread_10_30\n",
    "\n",
    "#e.\n",
    "\n",
    "\n",
    "# 결과 출력\n",
    "print(\"1. 9:30에서의 스프레드:\")\n",
    "print(\"   - 절대 스프레드:\", absolute_quoted_spread_9_30)\n",
    "print(\"   - 상대 스프레드:\", relative_quoted_spread_9_30)\n",
    "print(\"2. 9:30에서의 효과적 반 스프레드:\")\n",
    "print(\"   -  절대 반 스프레드:\", abs_effective_ask_side_half_spread_9_30)\n",
    "print(\"   -  상대 반 스프레드:\", rel_effective_ask_side_half_spread_9_30)\n",
    "\n",
    "#print(\"3. 9:30에서의 인용 반 스프레드와 효과적인 어스크측 반 스프레드 비교:\")\n",
    "#print(\"   - 인용 반 스프레드와 효과적인 어스크측 반 스프레드의 차이 (절대적):\", absolute_difference_3)\n",
    "#print(\"   - 인용 반 스프레드와 효과적인 어스크측 반 스프레드의 차이 (상대적):\", relative_difference_3)\n"
   ]
  },
  {
   "cell_type": "markdown",
   "id": "534aa6fd",
   "metadata": {},
   "source": [
    "## Problem3"
   ]
  },
  {
   "cell_type": "code",
   "execution_count": 136,
   "id": "c3941414",
   "metadata": {},
   "outputs": [
    {
     "ename": "SyntaxError",
     "evalue": "invalid syntax (3204086696.py, line 5)",
     "output_type": "error",
     "traceback": [
      "\u001b[1;36m  Input \u001b[1;32mIn [136]\u001b[1;36m\u001b[0m\n\u001b[1;33m    스프레드(S) 추정\u001b[0m\n\u001b[1;37m            ^\u001b[0m\n\u001b[1;31mSyntaxError\u001b[0m\u001b[1;31m:\u001b[0m invalid syntax\n"
     ]
    }
   ],
   "source": [
    "\n",
    "def midprice_estimated(ask_price, bid_price, lambda_value):\n",
    "    midprice_estimated = (lambda_value * bid_price + lambda_value * ask_price) / (lambda_value + lambda_value)\n",
    "\n",
    "\n",
    "#스프레드(S) 추정\n",
    "quoted_spread_estimated = abs(midprice_estimated - ask_price)  # ask\n",
    "quoted_spread_estimated = abs(midprice_estimated - bid_price)  # bid\n",
    "\n",
    "# 결과 출력\n",
    "print(\"스프레드 추정값:\", quoted_spread_estimated)\n"
   ]
  },
  {
   "cell_type": "code",
   "execution_count": null,
   "id": "42f624f6",
   "metadata": {},
   "outputs": [],
   "source": []
  }
 ],
 "metadata": {
  "kernelspec": {
   "display_name": "Python 3 (ipykernel)",
   "language": "python",
   "name": "python3"
  },
  "language_info": {
   "codemirror_mode": {
    "name": "ipython",
    "version": 3
   },
   "file_extension": ".py",
   "mimetype": "text/x-python",
   "name": "python",
   "nbconvert_exporter": "python",
   "pygments_lexer": "ipython3",
   "version": "3.9.12"
  }
 },
 "nbformat": 4,
 "nbformat_minor": 5
}
